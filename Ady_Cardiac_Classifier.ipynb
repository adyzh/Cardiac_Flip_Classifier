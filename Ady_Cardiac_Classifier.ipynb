{
 "cells": [
  {
   "cell_type": "markdown",
   "id": "daba42d4-b7ad-444e-9a0a-90f414d2bca7",
   "metadata": {},
   "source": [
    "#### A General Algorithm for Cardiac CT Flip Detection using Quadrant Pixel Summation\n",
    "\n",
    "For cardiac scans, there exists no clean up directory: Manually check for 160 scans for trainning. \n",
    "Goal: creat a function such that given mask, the function outputs axes to flip on if mask indicates potential flipping. \n",
    "\n",
    "Data Preparation  \n",
    "1. For each subject, we have three lung masks, one for each view (axial, coronal and saggital). \n",
    "2. Manually generate Left-Right (LR), Top-Bottom (TB) and Front-Back (FB) flips and store Niftys in specified subdirectories.\n",
    "\n",
    "Method \n",
    "1. Randomly sample 200 subjects from MESA Ex1, clean up then conduct manual flip generation per step (2) in data preparation. \n",
    "2. Extract the lung mask per subject, divide each mask into four quadrants and sum up the pixels in each quadrant, thereby creating a 3x2x2 tensor for each subject. \n",
    "3. Train a support vector classifier on 4 classes x 200 scan per class = 800 scans; save the classifier and call for future function. "
   ]
  },
  {
   "cell_type": "code",
   "execution_count": 4,
   "id": "935d9179-2407-492a-8450-aaa9cd1d866d",
   "metadata": {
    "tags": []
   },
   "outputs": [],
   "source": [
    "# Import packages\n",
    "import nibabel as nib\n",
    "import numpy as np\n",
    "import os\n",
    "from glob import glob\n",
    "import matplotlib.pyplot as plt\n",
    "import pandas as pd \n",
    "from nilearn import plotting\n",
    "from myutils import PLF # This is a plotting function written by Soroush for better visualization. \n",
    "import seaborn as sns \n",
    "import random \n",
    "from mpl_toolkits.axes_grid1 import make_axes_locatable\n",
    "from sklearn.model_selection import train_test_split\n",
    "from sklearn.linear_model import LogisticRegression\n",
    "from sklearn.metrics import accuracy_score\n",
    "from sklearn.svm import SVC\n",
    "from sklearn.ensemble import RandomForestClassifier\n",
    "from sklearn.ensemble import GradientBoostingClassifier\n",
    "from sklearn.neural_network import MLPClassifier\n",
    "from sklearn.neighbors import KNeighborsClassifier\n",
    "from sklearn.metrics import confusion_matrix\n",
    "from sklearn.model_selection import cross_val_score\n",
    "from tqdm.auto import tqdm\n",
    "from utils import ParallelMe"
   ]
  },
  {
   "cell_type": "code",
   "execution_count": 2,
   "id": "052d85cc-1bf7-4ac3-9aad-057b73d48dcf",
   "metadata": {
    "tags": []
   },
   "outputs": [
    {
     "name": "stdout",
     "output_type": "stream",
     "text": [
      "['3010406', '3010414', '3011194', '3011232', '3011399', '3011704', '3011933', '3013561', '3014037', '3014061', '3014274', '3014410', '3014622', '3014673', '3014940', '3015025', '3015700', '3015815', '3016552', '3016900', '3017567', '3018407', '3018679', '3018741', '3019101', '3019845', '3022374', '3022862', '4010280', '4010612', '4011031', '4011562', '4011740', '4011783', '4012100', '4012631', '4012801', '4013638', '4013891', '4015720', '4015967', '4015983', '4016939', '4017935', '4018214', '4018389', '4018800', '4018877', '4019164', '4019261', '4019750', '4019970', '4021320', '4021959', '4022050', '4022130', '4022629', '4022874', '5010160', '5010195', '5010659', '5010888', '5011230', '5011485', '5011833', '5012236', '5012562', '5012570', '5012902', '5013143', '5014220', '5014778', '5014816', '5014891', '5015260', '5015464', '5015472', '5015952', '5016002', '5016363', '5016894', '5017432', '5017513', '5017548', '5017980', '5018099', '5018382', '5018790', '5018870', '5018960', '5021685', '5021715', '5021782', '5022509', '5022738', '5022754', '6010261', '6010393', '6010733', '6010768', '6010792', '6011098', '6011454', '6012450', '6012850', '6012973', '6013090', '6013392', '6013570', '6013783', '6014097', '6015620', '6016219', '6016391', '6016448', '6017002', '6017401', '6017835', '6018467', '6018858', '6019250', '6019706', '6021557', '6022065', '6022278', '6022421', '6022669', '6022944', '7010168', '7010435', '7010834', '7011784', '7012012', '7012365', '7012403', '7012551', '7012993', '7014813', '7014848', '7015097', '7015259', '7015917', '7017642', '7017871', '7018215', '7018339', '7018576', '7018932', '7018940', '7019211', '7019408', '7019483', '7019629', '7019955', '7040350', '7041403', '7042299', '7044194', '7044801', '7044976', '7044984', '8010358', '8010498', '8010900', '8011036', '8011966', '8012059', '8012440', '8012679', '8012695', '8013209', '8013381', '8014167', '8014957', '8015104', '8015198', '8015295', '8016526', '8016941', '8016968', '8017093', '8017409', '8017417', '8017506', '8017670', '8018219', '8018413', '8019509', '8019967', '8021244', '8021724', '8021988', '8022755', '8022909', '8022917', '8022925', '8023077', '8024278', '8024502', '8024642']\n",
      "200\n"
     ]
    }
   ],
   "source": [
    "# # From the cleanup file directory, obtain a list of subjects. \n",
    "# Dir = \"/DATA/cleanup_data/data_MESA/MESA_Ex1/MESA_Ex1_CAC/\"\n",
    "\n",
    "# Sub = []\n",
    "# for subdir_name in os.listdir(Dir):\n",
    "#     subdir_path = os.path.join(Dir, subdir_name)\n",
    "    \n",
    "#     if os.path.isdir(subdir_path):\n",
    "#         patient_id = subdir_name\n",
    "#         Sub.append(patient_id)\n",
    "\n",
    "# # Randomly sample 100 subjects to test algo\n",
    "# rand_idx = random.sample(range(len(Sub)), 200)\n",
    "\n",
    "# Sampled_sub = []\n",
    "# for i in rand_idx: \n",
    "#     Sampled_sub.append(Sub[i])\n",
    "    \n",
    "# # Sort the ID's in ascending order\n",
    "# Sub_sorted = sorted(Sampled_sub, key=int)\n",
    "  \n",
    "# print(Sub_sorted)\n",
    "# print(len(Sub_sorted))"
   ]
  },
  {
   "cell_type": "code",
   "execution_count": 2,
   "id": "61ec3794-677b-4946-8dca-fc877d1eb3e4",
   "metadata": {
    "tags": []
   },
   "outputs": [],
   "source": [
    "Sub_sorted = ['3010406', '3010414', '3011194', '3011232', '3011399', '3011704', '3011933', '3013561', '3014037', '3014061', '3014274', '3014410', '3014622', '3014673', '3014940', '3015025', '3015700', '3015815', '3016552', '3016900', '3017567', '3018407', '3018679', '3018741', '3019101', '3019845', '3022374', '3022862', '4010280', '4010612', '4011031', '4011562', '4011740', '4011783', '4012100', '4012631', '4012801', '4013638', '4013891', '4015720', '4015967', '4015983', '4016939', '4017935', '4018214', '4018389', '4018800', '4018877', '4019164', '4019261', '4019750', '4019970', '4021320', '4021959', '4022050', '4022130', '4022629', '4022874', '5010160', '5010195', '5010659', '5010888', '5011230', '5011485', '5011833', '5012236', '5012562', '5012570', '5012902', '5013143', '5014220', '5014778', '5014816', '5014891', '5015260', '5015464', '5015472', '5015952', '5016002', '5016363', '5016894', '5017432', '5017513', '5017548', '5017980', '5018099', '5018382', '5018790', '5018870', '5018960', '5021685', '5021715', '5021782', '5022509', '5022738', '5022754', '6010261', '6010393', '6010733', '6010768', '6010792', '6011098', '6011454', '6012450', '6012850', '6012973', '6013090', '6013392', '6013570', '6013783', '6014097', '6015620', '6016219', '6016391', '6016448', '6017002', '6017401', '6017835', '6018467', '6018858', '6019250', '6019706', '6021557', '6022065', '6022278', '6022421', '6022669', '6022944', '7010168', '7010435', '7010834', '7011784', '7012012', '7012365', '7012403', '7012551', '7012993', '7014813', '7014848', '7015097', '7015259', '7015917', '7017642', '7017871', '7018215', '7018339', '7018576', '7018932', '7018940', '7019211', '7019408', '7019483', '7019629', '7019955', '7040350', '7041403', '7042299', '7044194', '7044801', '7044976', '7044984', '8010358', '8010498', '8010900', '8011036', '8011966', '8012059', '8012440', '8012679', '8012695', '8013209', '8013381', '8014167', '8014957', '8015104', '8015198', '8015295', '8016526', '8016941', '8016968', '8017093', '8017409', '8017417', '8017506', '8017670', '8018219', '8018413', '8019509', '8019967', '8021244', '8021724', '8021988', '8022755', '8022909', '8022917', '8022925', '8023077', '8024278', '8024502', '8024642']"
   ]
  },
  {
   "cell_type": "code",
   "execution_count": 28,
   "id": "09599a9c-1fa7-4f1e-821c-6d21dbd5b113",
   "metadata": {},
   "outputs": [],
   "source": [
    "# def get_img(Dir, ID): \n",
    "#     id_directory = os.path.join(Dir, sub)\n",
    "    \n",
    "#     # Check if the ID directory exists\n",
    "#     if os.path.exists(id_directory):\n",
    "        \n",
    "#         # Assuming the lung mask NII files have a certain naming pattern\n",
    "#         img_mask_files = [file for file in os.listdir(id_directory) if \"IMG\" in file]\n",
    "\n",
    "#         # Assuming first .nii file \n",
    "#         first_img_mask_file = img_mask_files[0]\n",
    "        \n",
    "#         # Load the NII file using nibabel\n",
    "#         img = nib.load(os.path.join(id_directory, first_img_mask_file)).get_fdata()\n",
    "#     return img \n",
    "\n",
    "# def get_lung(Dir, ID): \n",
    "#     id_directory = os.path.join(Dir, sub)\n",
    "    \n",
    "#     # Check if the ID directory exists\n",
    "#     if os.path.exists(id_directory):\n",
    "        \n",
    "#         # Assuming the lung mask NII files have a certain naming pattern\n",
    "#         lung_mask_files = [file for file in os.listdir(id_directory) if \"LUNG\" in file]\n",
    "\n",
    "#         # Assuming first .nii file \n",
    "#         first_lung_mask_file = lung_mask_files[0]\n",
    "        \n",
    "#         # Load the NII file using nibabel\n",
    "#         lung = nib.load(os.path.join(id_directory, first_lung_mask_file)).get_fdata()\n",
    "#     return lung "
   ]
  },
  {
   "cell_type": "markdown",
   "id": "a7e93fb3-73c5-42a2-84d2-f76338ce4155",
   "metadata": {},
   "source": [
    "#### Manual Cleanup of 200 Scans "
   ]
  },
  {
   "cell_type": "code",
   "execution_count": 31,
   "id": "c3544c6a-af51-4feb-86f7-579e83b52d3a",
   "metadata": {
    "tags": []
   },
   "outputs": [],
   "source": [
    "Z_flipped = ['3010406', '3010414', '3011232', '3011399', '3011704', '3011933', '3013561', '3014037', '3014061', '3014274', '3014410', '3014622', '3014673', '3014940', '3015025', '3015700', '3015815', '3016552', '3016900', '3017567', '3018407', '3018679', '3018741', '3019101', '3019845', '3022374', '3022862', '4010280', '4010612', '4011031', '4011562', '4011740', '4011783', '4012100', '4012631', '4012801', '4013638', '4013891', '4015720', '4015967', '4015983', '4016939', '4017935', '4018214', '4018389', '4018800', '4018877', '4019164', '4019261', '4019750', '4019970', '4021320', '4021959', '4022050', '4022130', '4022629', '4022874', '5010160', '5010195', '5010659', '5010888', '5011230', '5011485', '5011833', '5012236', '5012562', '5012570', '5012902', '5013143', '5014220', '5014778', '5014816', '5014891', '5015260', '5015464', '5015472', '5015952', '5016002', '5016363', '5016894', '5017432', '5017513', '5017548', '5017980', '5018099', '5018382', '5018790', '5018870', '5018960', '5021685', '5021715', '5021782', '5022509', '5022738', '5022754', '6010261', '6010393', '6010733', '6010768', '6010792', '6011098', '6011454', '6012450', '6012850', '6012973', '6013090', '6013392', '6013570', '6013783', '6014097', '6015620', '6016219', '6016391', '6016448', '6017002', '6017401', '6017835', '6018467', '6018858', '6019250', '6019706', '6021557', '6022065', '6022278', '6022421', '6022669', '6022944', '7010168', '7010435', '7010834', '7011784', '7012012', '7012365', '7012403', '7012551', '7012993', '7014813', '7014848', '7015097', '7015259', '7015917', '7017642', '7017871', '7018215', '7018576', '7018932', '7018940', '7019211', '7019408', '7019629', '7019955', '7040350', '7041403', '7042299', '7044194', '7044801', '7044976', '7044984', '8010358', '8010498', '8010900', '8011036', '8011966', '8012059', '8012440', '8012679', '8012695', '8013209', '8013381', '8014167', '8014957', '8015104', '8015198', '8015295', '8016526', '8016941', '8016968', '8017093', '8017409', '8017417', '8017506', '8017670', '8018219', '8018413', '8019509', '8019967', '8021244', '8021724', '8021988', '8022755', '8022909', '8022917', '8022925', '8023077', '8024278', '8024502', '8024642']\n",
    "X_flipped = [\"3011194\"]\n",
    "#Excluded two subjects due to abnormal segmentation \"7018339\", \"7019483\""
   ]
  },
  {
   "cell_type": "code",
   "execution_count": 36,
   "id": "82360f36-afa3-48ea-9cd3-54904e3f435e",
   "metadata": {
    "tags": []
   },
   "outputs": [
    {
     "name": "stdout",
     "output_type": "stream",
     "text": [
      "Saved 3010406_image.nii.gz and 3010406_lung_mask.nii.gz\n",
      "Saved 3010414_image.nii.gz and 3010414_lung_mask.nii.gz\n",
      "Saved 3011232_image.nii.gz and 3011232_lung_mask.nii.gz\n",
      "Saved 3011399_image.nii.gz and 3011399_lung_mask.nii.gz\n",
      "Saved 3011704_image.nii.gz and 3011704_lung_mask.nii.gz\n",
      "Saved 3011933_image.nii.gz and 3011933_lung_mask.nii.gz\n",
      "Saved 3013561_image.nii.gz and 3013561_lung_mask.nii.gz\n",
      "Saved 3014037_image.nii.gz and 3014037_lung_mask.nii.gz\n",
      "Saved 3014061_image.nii.gz and 3014061_lung_mask.nii.gz\n",
      "Saved 3014274_image.nii.gz and 3014274_lung_mask.nii.gz\n",
      "Saved 3014410_image.nii.gz and 3014410_lung_mask.nii.gz\n",
      "Saved 3014622_image.nii.gz and 3014622_lung_mask.nii.gz\n",
      "Saved 3014673_image.nii.gz and 3014673_lung_mask.nii.gz\n",
      "Saved 3014940_image.nii.gz and 3014940_lung_mask.nii.gz\n",
      "Saved 3015025_image.nii.gz and 3015025_lung_mask.nii.gz\n",
      "Saved 3015700_image.nii.gz and 3015700_lung_mask.nii.gz\n",
      "Saved 3015815_image.nii.gz and 3015815_lung_mask.nii.gz\n",
      "Saved 3016552_image.nii.gz and 3016552_lung_mask.nii.gz\n",
      "Saved 3016900_image.nii.gz and 3016900_lung_mask.nii.gz\n",
      "Saved 3017567_image.nii.gz and 3017567_lung_mask.nii.gz\n",
      "Saved 3018407_image.nii.gz and 3018407_lung_mask.nii.gz\n",
      "Saved 3018679_image.nii.gz and 3018679_lung_mask.nii.gz\n",
      "Saved 3018741_image.nii.gz and 3018741_lung_mask.nii.gz\n",
      "Saved 3019101_image.nii.gz and 3019101_lung_mask.nii.gz\n",
      "Saved 3019845_image.nii.gz and 3019845_lung_mask.nii.gz\n",
      "Saved 3022374_image.nii.gz and 3022374_lung_mask.nii.gz\n",
      "Saved 3022862_image.nii.gz and 3022862_lung_mask.nii.gz\n",
      "Saved 4010280_image.nii.gz and 4010280_lung_mask.nii.gz\n",
      "Saved 4010612_image.nii.gz and 4010612_lung_mask.nii.gz\n",
      "Saved 4011031_image.nii.gz and 4011031_lung_mask.nii.gz\n",
      "Saved 4011562_image.nii.gz and 4011562_lung_mask.nii.gz\n",
      "Saved 4011740_image.nii.gz and 4011740_lung_mask.nii.gz\n",
      "Saved 4011783_image.nii.gz and 4011783_lung_mask.nii.gz\n",
      "Saved 4012100_image.nii.gz and 4012100_lung_mask.nii.gz\n",
      "Saved 4012631_image.nii.gz and 4012631_lung_mask.nii.gz\n",
      "Saved 4012801_image.nii.gz and 4012801_lung_mask.nii.gz\n",
      "Saved 4013638_image.nii.gz and 4013638_lung_mask.nii.gz\n",
      "Saved 4013891_image.nii.gz and 4013891_lung_mask.nii.gz\n",
      "Saved 4015720_image.nii.gz and 4015720_lung_mask.nii.gz\n",
      "Saved 4015967_image.nii.gz and 4015967_lung_mask.nii.gz\n",
      "Saved 4015983_image.nii.gz and 4015983_lung_mask.nii.gz\n",
      "Saved 4016939_image.nii.gz and 4016939_lung_mask.nii.gz\n",
      "Saved 4017935_image.nii.gz and 4017935_lung_mask.nii.gz\n",
      "Saved 4018214_image.nii.gz and 4018214_lung_mask.nii.gz\n",
      "Saved 4018389_image.nii.gz and 4018389_lung_mask.nii.gz\n",
      "Saved 4018800_image.nii.gz and 4018800_lung_mask.nii.gz\n",
      "Saved 4018877_image.nii.gz and 4018877_lung_mask.nii.gz\n",
      "Saved 4019164_image.nii.gz and 4019164_lung_mask.nii.gz\n",
      "Saved 4019261_image.nii.gz and 4019261_lung_mask.nii.gz\n",
      "Saved 4019750_image.nii.gz and 4019750_lung_mask.nii.gz\n",
      "Saved 4019970_image.nii.gz and 4019970_lung_mask.nii.gz\n",
      "Saved 4021320_image.nii.gz and 4021320_lung_mask.nii.gz\n",
      "Saved 4021959_image.nii.gz and 4021959_lung_mask.nii.gz\n",
      "Saved 4022050_image.nii.gz and 4022050_lung_mask.nii.gz\n",
      "Saved 4022130_image.nii.gz and 4022130_lung_mask.nii.gz\n",
      "Saved 4022629_image.nii.gz and 4022629_lung_mask.nii.gz\n",
      "Saved 4022874_image.nii.gz and 4022874_lung_mask.nii.gz\n",
      "Saved 5010160_image.nii.gz and 5010160_lung_mask.nii.gz\n",
      "Saved 5010195_image.nii.gz and 5010195_lung_mask.nii.gz\n",
      "Saved 5010659_image.nii.gz and 5010659_lung_mask.nii.gz\n",
      "Saved 5010888_image.nii.gz and 5010888_lung_mask.nii.gz\n",
      "Saved 5011230_image.nii.gz and 5011230_lung_mask.nii.gz\n",
      "Saved 5011485_image.nii.gz and 5011485_lung_mask.nii.gz\n",
      "Saved 5011833_image.nii.gz and 5011833_lung_mask.nii.gz\n",
      "Saved 5012236_image.nii.gz and 5012236_lung_mask.nii.gz\n",
      "Saved 5012562_image.nii.gz and 5012562_lung_mask.nii.gz\n",
      "Saved 5012570_image.nii.gz and 5012570_lung_mask.nii.gz\n",
      "Saved 5012902_image.nii.gz and 5012902_lung_mask.nii.gz\n",
      "Saved 5013143_image.nii.gz and 5013143_lung_mask.nii.gz\n",
      "Saved 5014220_image.nii.gz and 5014220_lung_mask.nii.gz\n",
      "Saved 5014778_image.nii.gz and 5014778_lung_mask.nii.gz\n",
      "Saved 5014816_image.nii.gz and 5014816_lung_mask.nii.gz\n",
      "Saved 5014891_image.nii.gz and 5014891_lung_mask.nii.gz\n",
      "Saved 5015260_image.nii.gz and 5015260_lung_mask.nii.gz\n",
      "Saved 5015464_image.nii.gz and 5015464_lung_mask.nii.gz\n",
      "Saved 5015472_image.nii.gz and 5015472_lung_mask.nii.gz\n",
      "Saved 5015952_image.nii.gz and 5015952_lung_mask.nii.gz\n",
      "Saved 5016002_image.nii.gz and 5016002_lung_mask.nii.gz\n",
      "Saved 5016363_image.nii.gz and 5016363_lung_mask.nii.gz\n",
      "Saved 5016894_image.nii.gz and 5016894_lung_mask.nii.gz\n",
      "Saved 5017432_image.nii.gz and 5017432_lung_mask.nii.gz\n",
      "Saved 5017513_image.nii.gz and 5017513_lung_mask.nii.gz\n",
      "Saved 5017548_image.nii.gz and 5017548_lung_mask.nii.gz\n",
      "Saved 5017980_image.nii.gz and 5017980_lung_mask.nii.gz\n",
      "Saved 5018099_image.nii.gz and 5018099_lung_mask.nii.gz\n",
      "Saved 5018382_image.nii.gz and 5018382_lung_mask.nii.gz\n",
      "Saved 5018790_image.nii.gz and 5018790_lung_mask.nii.gz\n",
      "Saved 5018870_image.nii.gz and 5018870_lung_mask.nii.gz\n",
      "Saved 5018960_image.nii.gz and 5018960_lung_mask.nii.gz\n",
      "Saved 5021685_image.nii.gz and 5021685_lung_mask.nii.gz\n",
      "Saved 5021715_image.nii.gz and 5021715_lung_mask.nii.gz\n",
      "Saved 5021782_image.nii.gz and 5021782_lung_mask.nii.gz\n",
      "Saved 5022509_image.nii.gz and 5022509_lung_mask.nii.gz\n",
      "Saved 5022738_image.nii.gz and 5022738_lung_mask.nii.gz\n",
      "Saved 5022754_image.nii.gz and 5022754_lung_mask.nii.gz\n",
      "Saved 6010261_image.nii.gz and 6010261_lung_mask.nii.gz\n",
      "Saved 6010393_image.nii.gz and 6010393_lung_mask.nii.gz\n",
      "Saved 6010733_image.nii.gz and 6010733_lung_mask.nii.gz\n",
      "Saved 6010768_image.nii.gz and 6010768_lung_mask.nii.gz\n",
      "Saved 6010792_image.nii.gz and 6010792_lung_mask.nii.gz\n",
      "Saved 6011098_image.nii.gz and 6011098_lung_mask.nii.gz\n",
      "Saved 6011454_image.nii.gz and 6011454_lung_mask.nii.gz\n",
      "Saved 6012450_image.nii.gz and 6012450_lung_mask.nii.gz\n",
      "Saved 6012850_image.nii.gz and 6012850_lung_mask.nii.gz\n",
      "Saved 6012973_image.nii.gz and 6012973_lung_mask.nii.gz\n",
      "Saved 6013090_image.nii.gz and 6013090_lung_mask.nii.gz\n",
      "Saved 6013392_image.nii.gz and 6013392_lung_mask.nii.gz\n",
      "Saved 6013570_image.nii.gz and 6013570_lung_mask.nii.gz\n",
      "Saved 6013783_image.nii.gz and 6013783_lung_mask.nii.gz\n",
      "Saved 6014097_image.nii.gz and 6014097_lung_mask.nii.gz\n",
      "Saved 6015620_image.nii.gz and 6015620_lung_mask.nii.gz\n",
      "Saved 6016219_image.nii.gz and 6016219_lung_mask.nii.gz\n",
      "Saved 6016391_image.nii.gz and 6016391_lung_mask.nii.gz\n",
      "Saved 6016448_image.nii.gz and 6016448_lung_mask.nii.gz\n",
      "Saved 6017002_image.nii.gz and 6017002_lung_mask.nii.gz\n",
      "Saved 6017401_image.nii.gz and 6017401_lung_mask.nii.gz\n",
      "Saved 6017835_image.nii.gz and 6017835_lung_mask.nii.gz\n",
      "Saved 6018467_image.nii.gz and 6018467_lung_mask.nii.gz\n",
      "Saved 6018858_image.nii.gz and 6018858_lung_mask.nii.gz\n",
      "Saved 6019250_image.nii.gz and 6019250_lung_mask.nii.gz\n",
      "Saved 6019706_image.nii.gz and 6019706_lung_mask.nii.gz\n",
      "Saved 6021557_image.nii.gz and 6021557_lung_mask.nii.gz\n",
      "Saved 6022065_image.nii.gz and 6022065_lung_mask.nii.gz\n",
      "Saved 6022278_image.nii.gz and 6022278_lung_mask.nii.gz\n",
      "Saved 6022421_image.nii.gz and 6022421_lung_mask.nii.gz\n",
      "Saved 6022669_image.nii.gz and 6022669_lung_mask.nii.gz\n",
      "Saved 6022944_image.nii.gz and 6022944_lung_mask.nii.gz\n",
      "Saved 7010168_image.nii.gz and 7010168_lung_mask.nii.gz\n",
      "Saved 7010435_image.nii.gz and 7010435_lung_mask.nii.gz\n",
      "Saved 7010834_image.nii.gz and 7010834_lung_mask.nii.gz\n",
      "Saved 7011784_image.nii.gz and 7011784_lung_mask.nii.gz\n",
      "Saved 7012012_image.nii.gz and 7012012_lung_mask.nii.gz\n",
      "Saved 7012365_image.nii.gz and 7012365_lung_mask.nii.gz\n",
      "Saved 7012403_image.nii.gz and 7012403_lung_mask.nii.gz\n",
      "Saved 7012551_image.nii.gz and 7012551_lung_mask.nii.gz\n",
      "Saved 7012993_image.nii.gz and 7012993_lung_mask.nii.gz\n",
      "Saved 7014813_image.nii.gz and 7014813_lung_mask.nii.gz\n",
      "Saved 7014848_image.nii.gz and 7014848_lung_mask.nii.gz\n",
      "Saved 7015097_image.nii.gz and 7015097_lung_mask.nii.gz\n",
      "Saved 7015259_image.nii.gz and 7015259_lung_mask.nii.gz\n",
      "Saved 7015917_image.nii.gz and 7015917_lung_mask.nii.gz\n",
      "Saved 7017642_image.nii.gz and 7017642_lung_mask.nii.gz\n",
      "Saved 7017871_image.nii.gz and 7017871_lung_mask.nii.gz\n",
      "Saved 7018215_image.nii.gz and 7018215_lung_mask.nii.gz\n",
      "Saved 7018576_image.nii.gz and 7018576_lung_mask.nii.gz\n",
      "Saved 7018932_image.nii.gz and 7018932_lung_mask.nii.gz\n",
      "Saved 7018940_image.nii.gz and 7018940_lung_mask.nii.gz\n",
      "Saved 7019211_image.nii.gz and 7019211_lung_mask.nii.gz\n",
      "Saved 7019408_image.nii.gz and 7019408_lung_mask.nii.gz\n",
      "Saved 7019629_image.nii.gz and 7019629_lung_mask.nii.gz\n",
      "Saved 7019955_image.nii.gz and 7019955_lung_mask.nii.gz\n",
      "Saved 7040350_image.nii.gz and 7040350_lung_mask.nii.gz\n",
      "Saved 7041403_image.nii.gz and 7041403_lung_mask.nii.gz\n",
      "Saved 7042299_image.nii.gz and 7042299_lung_mask.nii.gz\n",
      "Saved 7044194_image.nii.gz and 7044194_lung_mask.nii.gz\n",
      "Saved 7044801_image.nii.gz and 7044801_lung_mask.nii.gz\n",
      "Saved 7044976_image.nii.gz and 7044976_lung_mask.nii.gz\n",
      "Saved 7044984_image.nii.gz and 7044984_lung_mask.nii.gz\n",
      "Saved 8010358_image.nii.gz and 8010358_lung_mask.nii.gz\n",
      "Saved 8010498_image.nii.gz and 8010498_lung_mask.nii.gz\n",
      "Saved 8010900_image.nii.gz and 8010900_lung_mask.nii.gz\n",
      "Saved 8011036_image.nii.gz and 8011036_lung_mask.nii.gz\n",
      "Saved 8011966_image.nii.gz and 8011966_lung_mask.nii.gz\n",
      "Saved 8012059_image.nii.gz and 8012059_lung_mask.nii.gz\n",
      "Saved 8012440_image.nii.gz and 8012440_lung_mask.nii.gz\n",
      "Saved 8012679_image.nii.gz and 8012679_lung_mask.nii.gz\n",
      "Saved 8012695_image.nii.gz and 8012695_lung_mask.nii.gz\n",
      "Saved 8013209_image.nii.gz and 8013209_lung_mask.nii.gz\n",
      "Saved 8013381_image.nii.gz and 8013381_lung_mask.nii.gz\n",
      "Saved 8014167_image.nii.gz and 8014167_lung_mask.nii.gz\n",
      "Saved 8014957_image.nii.gz and 8014957_lung_mask.nii.gz\n",
      "Saved 8015104_image.nii.gz and 8015104_lung_mask.nii.gz\n",
      "Saved 8015198_image.nii.gz and 8015198_lung_mask.nii.gz\n",
      "Saved 8015295_image.nii.gz and 8015295_lung_mask.nii.gz\n",
      "Saved 8016526_image.nii.gz and 8016526_lung_mask.nii.gz\n",
      "Saved 8016941_image.nii.gz and 8016941_lung_mask.nii.gz\n",
      "Saved 8016968_image.nii.gz and 8016968_lung_mask.nii.gz\n",
      "Saved 8017093_image.nii.gz and 8017093_lung_mask.nii.gz\n",
      "Saved 8017409_image.nii.gz and 8017409_lung_mask.nii.gz\n",
      "Saved 8017417_image.nii.gz and 8017417_lung_mask.nii.gz\n",
      "Saved 8017506_image.nii.gz and 8017506_lung_mask.nii.gz\n",
      "Saved 8017670_image.nii.gz and 8017670_lung_mask.nii.gz\n",
      "Saved 8018219_image.nii.gz and 8018219_lung_mask.nii.gz\n",
      "Saved 8018413_image.nii.gz and 8018413_lung_mask.nii.gz\n",
      "Saved 8019509_image.nii.gz and 8019509_lung_mask.nii.gz\n",
      "Saved 8019967_image.nii.gz and 8019967_lung_mask.nii.gz\n",
      "Saved 8021244_image.nii.gz and 8021244_lung_mask.nii.gz\n",
      "Saved 8021724_image.nii.gz and 8021724_lung_mask.nii.gz\n",
      "Saved 8021988_image.nii.gz and 8021988_lung_mask.nii.gz\n",
      "Saved 8022755_image.nii.gz and 8022755_lung_mask.nii.gz\n",
      "Saved 8022909_image.nii.gz and 8022909_lung_mask.nii.gz\n",
      "Saved 8022917_image.nii.gz and 8022917_lung_mask.nii.gz\n",
      "Saved 8022925_image.nii.gz and 8022925_lung_mask.nii.gz\n",
      "Saved 8023077_image.nii.gz and 8023077_lung_mask.nii.gz\n",
      "Saved 8024278_image.nii.gz and 8024278_lung_mask.nii.gz\n",
      "Saved 8024502_image.nii.gz and 8024502_lung_mask.nii.gz\n",
      "Saved 8024642_image.nii.gz and 8024642_lung_mask.nii.gz\n"
     ]
    }
   ],
   "source": [
    "# Dir = \"/DATA/cleanup_data/data_MESA/MESA_Ex1/MESA_Ex1_CAC/\"\n",
    "# Clean_Dir = \"/DATA/summer_students/process_AZ/cardiac_cleanup\"\n",
    "\n",
    "# for sub in Z_flipped: \n",
    "#     img = get_img(Dir, sub)\n",
    "#     flip_img = np.flip(img, axis=2)\n",
    "#     lung = get_lung(Dir, sub)\n",
    "#     flip_lung = np.flip(lung, axis=2) \n",
    "    \n",
    "#     # Save the flipped image and lung mask back to files\n",
    "#     flipped_img_nifti = nib.Nifti1Image(flip_img, affine=None)\n",
    "#     flipped_lung_mask_nifti = nib.Nifti1Image(flip_lung, affine=None)\n",
    "    \n",
    "#     # Define output filenames for the flipped image and lung mask\n",
    "#     flipped_img_output_file = os.path.join(Clean_Dir, f\"{sub}_IMG.nii.gz\")\n",
    "#     flipped_lung_mask_output_file = os.path.join(Clean_Dir, f\"{sub}_LUNG.nii.gz\")\n",
    "    \n",
    "#     # Save the flipped image and lung mask\n",
    "#     nib.save(flipped_img_nifti, flipped_img_output_file)\n",
    "#     nib.save(flipped_lung_mask_nifti, flipped_lung_mask_output_file)\n",
    "    \n",
    "#     print(f\"Saved {sub}_image.nii.gz and {sub}_lung_mask.nii.gz\")\n"
   ]
  },
  {
   "cell_type": "code",
   "execution_count": 37,
   "id": "5cddb15e-e014-40aa-907a-c074a05f3a66",
   "metadata": {
    "tags": []
   },
   "outputs": [
    {
     "name": "stdout",
     "output_type": "stream",
     "text": [
      "Saved 3011194_image.nii.gz and 3011194_lung_mask.nii.gz\n"
     ]
    }
   ],
   "source": [
    "# Dir = \"/DATA/cleanup_data/data_MESA/MESA_Ex1/MESA_Ex1_CAC/\"\n",
    "# Clean_Dir = \"/DATA/summer_students/process_AZ/cardiac_cleanup\"\n",
    "\n",
    "# for sub in X_flipped: \n",
    "#     img = get_img(Dir, sub)\n",
    "#     flip_img = np.flip(img, axis=0)\n",
    "#     lung = get_lung(Dir, sub)\n",
    "#     flip_lung = np.flip(lung, axis=0) \n",
    "    \n",
    "#     # Save the flipped image and lung mask back to files\n",
    "#     flipped_img_nifti = nib.Nifti1Image(flip_img, affine=None)\n",
    "#     flipped_lung_mask_nifti = nib.Nifti1Image(flip_lung, affine=None)\n",
    "    \n",
    "#     # Define output filenames for the flipped image and lung mask\n",
    "#     flipped_img_output_file = os.path.join(Clean_Dir, f\"{sub}_IMG.nii.gz\")\n",
    "#     flipped_lung_mask_output_file = os.path.join(Clean_Dir, f\"{sub}_LUNG.nii.gz\")\n",
    "    \n",
    "#     # Save the flipped image and lung mask\n",
    "#     nib.save(flipped_img_nifti, flipped_img_output_file)\n",
    "#     nib.save(flipped_lung_mask_nifti, flipped_lung_mask_output_file)\n",
    "    \n",
    "#     print(f\"Saved {sub}_image.nii.gz and {sub}_lung_mask.nii.gz\")"
   ]
  },
  {
   "cell_type": "markdown",
   "id": "e35ae436-ec6f-4cf3-a23e-e2d419a6af7f",
   "metadata": {
    "tags": []
   },
   "source": [
    "#### Manually Implement LR/TB/FB Flips to generate (200-2) x 4 orientations "
   ]
  },
  {
   "cell_type": "code",
   "execution_count": 46,
   "id": "40340190-f054-43dc-8cb9-9e4f19e1aaf2",
   "metadata": {
    "tags": []
   },
   "outputs": [
    {
     "data": {
      "image/png": "[encoded data removed]",
      "text/plain": [
       "<Figure size 1260x560 with 4 Axes>"
      ]
     },
     "metadata": {},
     "output_type": "display_data"
    },
    {
     "data": {
      "image/png": "[encoded data removed]",
      "text/plain": [
       "<Figure size 1260x560 with 4 Axes>"
      ]
     },
     "metadata": {},
     "output_type": "display_data"
    },
    {
     "data": {
      "image/png": "[encoded data removed]",
      "text/plain": [
       "<Figure size 1260x560 with 4 Axes>"
      ]
     },
     "metadata": {},
     "output_type": "display_data"
    },
    {
     "data": {
      "image/png": "[encoded data removed]",
      "text/plain": [
       "<Figure size 1260x560 with 4 Axes>"
      ]
     },
     "metadata": {},
     "output_type": "display_data"
    }
   ],
   "source": [
    "# # Test different orientations \n",
    "# SubDir = \"/DATA/summer_students/process_AZ/cardiac_cleanup\"\n",
    "# for sub in Z_flipped[:1]: \n",
    "#     lung = nib.load(os.path.join(SubDir, f\"{sub}_LUNG.nii.gz\")).get_fdata()\n",
    "#     tb = np.flip(lung, axis=2)\n",
    "#     fb = np.flip(lung, axis=1)\n",
    "#     lr = np.flip(lung, axis=0)\n",
    "#     PLF.plot(lung, cmaps=\"jet\", resolution=[1,1,10])\n",
    "#     PLF.plot(tb, cmaps=\"jet\", resolution=[1,1,10])\n",
    "#     PLF.plot(fb, cmaps=\"jet\", resolution=[1,1,10])\n",
    "#     PLF.plot(lr, cmaps=\"jet\", resolution=[1,1,10])    "
   ]
  },
  {
   "cell_type": "code",
   "execution_count": 32,
   "id": "febf1357-d09e-4971-b19e-761d78a840a8",
   "metadata": {
    "tags": []
   },
   "outputs": [],
   "source": [
    "# Specify an output directory for the flipped niftys - define int\n",
    "SubDir = \"/DATA/summer_students/process_AZ/cardiac_cleanup\"\n",
    "\n",
    "output_dir_LR = '/DATA/summer_students/process_AZ/cardiac_LR'\n",
    "output_dir_TB = '/DATA/summer_students/process_AZ/cardiac_TB'\n",
    "output_dir_FB = '/DATA/summer_students/process_AZ/cardiac_FB'\n",
    "\n",
    "# Create a top/bottom lung flipping function \n",
    "def invert_lung_TB(SubDir, ID, output_dir_TB):\n",
    "    # Load the lung mask for the given ID\n",
    "    lung = nib.load(os.path.join(SubDir, f\"{ID}_LUNG.nii.gz\")).get_fdata()\n",
    "    \n",
    "    # Vertically invert the lung mask\n",
    "    inverted_lung_mask = np.flip(lung, axis=2)\n",
    "\n",
    "    # Save the inverted lung mask as a NIfTI file\n",
    "    output_filename = os.path.join(output_dir_TB, f\"TB_{ID}_LUNG.nii.gz\")\n",
    "    inverted_nifti = nib.Nifti1Image(inverted_lung_mask, affine=None)\n",
    "    nib.save(inverted_nifti, output_filename)\n",
    "\n",
    "# Create a front/back lung flipping function \n",
    "def invert_lung_FB(SubDir, ID, output_dir_FB):\n",
    "    # Load the lung mask for the given ID\n",
    "    lung = nib.load(os.path.join(SubDir, f\"{ID}_LUNG.nii.gz\")).get_fdata()\n",
    "\n",
    "    # Horizontally invert the lung mask\n",
    "    inverted_lung_mask = np.flip(lung, axis=1)\n",
    "\n",
    "    # Save the inverted lung mask as a NIfTI file\n",
    "    output_filename = os.path.join(output_dir_FB, f\"FB_{ID}_LUNG.nii.gz\")\n",
    "    inverted_nifti = nib.Nifti1Image(inverted_lung_mask, affine=None)\n",
    "    nib.save(inverted_nifti, output_filename)\n",
    "    \n",
    "# Create a front/back lung flipping function \n",
    "def invert_lung_LR(SubDir, ID, output_dir_LR):\n",
    "    # Load the lung mask for the given ID\n",
    "    lung = nib.load(os.path.join(SubDir, f\"{ID}_LUNG.nii.gz\")).get_fdata()\n",
    "\n",
    "    # Horizontally invert the lung mask\n",
    "    inverted_lung_mask = np.flip(lung, axis=0)\n",
    "\n",
    "    # Save the inverted lung mask as a NIfTI file\n",
    "    output_filename = os.path.join(output_dir_LR, f\"LR_{ID}_LUNG.nii.gz\")\n",
    "    inverted_nifti = nib.Nifti1Image(inverted_lung_mask, affine=None)\n",
    "    nib.save(inverted_nifti, output_filename)"
   ]
  },
  {
   "cell_type": "code",
   "execution_count": 33,
   "id": "04367d4f-de8e-406c-a909-e499c4762c4d",
   "metadata": {
    "tags": []
   },
   "outputs": [],
   "source": [
    "del Sub_sorted"
   ]
  },
  {
   "cell_type": "code",
   "execution_count": 53,
   "id": "74068389-e437-466d-8230-e6b08075f2c7",
   "metadata": {
    "tags": []
   },
   "outputs": [
    {
     "name": "stdout",
     "output_type": "stream",
     "text": [
      "complete writing for 3010406\n",
      "complete writing for 3010414\n",
      "complete writing for 3011194\n",
      "complete writing for 3011232\n",
      "complete writing for 3011399\n",
      "complete writing for 3011704\n",
      "complete writing for 3011933\n",
      "complete writing for 3013561\n",
      "complete writing for 3014037\n",
      "complete writing for 3014061\n",
      "complete writing for 3014274\n",
      "complete writing for 3014410\n",
      "complete writing for 3014622\n",
      "complete writing for 3014673\n",
      "complete writing for 3014940\n",
      "complete writing for 3015025\n",
      "complete writing for 3015700\n",
      "complete writing for 3015815\n",
      "complete writing for 3016552\n",
      "complete writing for 3016900\n",
      "complete writing for 3017567\n",
      "complete writing for 3018407\n",
      "complete writing for 3018679\n",
      "complete writing for 3018741\n",
      "complete writing for 3019101\n",
      "complete writing for 3019845\n",
      "complete writing for 3022374\n",
      "complete writing for 3022862\n",
      "complete writing for 4010280\n",
      "complete writing for 4010612\n",
      "complete writing for 4011031\n",
      "complete writing for 4011562\n",
      "complete writing for 4011740\n",
      "complete writing for 4011783\n",
      "complete writing for 4012100\n",
      "complete writing for 4012631\n",
      "complete writing for 4012801\n",
      "complete writing for 4013638\n",
      "complete writing for 4013891\n",
      "complete writing for 4015720\n",
      "complete writing for 4015967\n",
      "complete writing for 4015983\n",
      "complete writing for 4016939\n",
      "complete writing for 4017935\n",
      "complete writing for 4018214\n",
      "complete writing for 4018389\n",
      "complete writing for 4018800\n",
      "complete writing for 4018877\n",
      "complete writing for 4019164\n",
      "complete writing for 4019261\n",
      "complete writing for 4019750\n",
      "complete writing for 4019970\n",
      "complete writing for 4021320\n",
      "complete writing for 4021959\n",
      "complete writing for 4022050\n",
      "complete writing for 4022130\n",
      "complete writing for 4022629\n",
      "complete writing for 4022874\n",
      "complete writing for 5010160\n",
      "complete writing for 5010195\n",
      "complete writing for 5010659\n",
      "complete writing for 5010888\n",
      "complete writing for 5011230\n",
      "complete writing for 5011485\n",
      "complete writing for 5011833\n",
      "complete writing for 5012236\n",
      "complete writing for 5012562\n",
      "complete writing for 5012570\n",
      "complete writing for 5012902\n",
      "complete writing for 5013143\n",
      "complete writing for 5014220\n",
      "complete writing for 5014778\n",
      "complete writing for 5014816\n",
      "complete writing for 5014891\n",
      "complete writing for 5015260\n",
      "complete writing for 5015464\n",
      "complete writing for 5015472\n",
      "complete writing for 5015952\n",
      "complete writing for 5016002\n",
      "complete writing for 5016363\n",
      "complete writing for 5016894\n",
      "complete writing for 5017432\n",
      "complete writing for 5017513\n",
      "complete writing for 5017548\n",
      "complete writing for 5017980\n",
      "complete writing for 5018099\n",
      "complete writing for 5018382\n",
      "complete writing for 5018790\n",
      "complete writing for 5018870\n",
      "complete writing for 5018960\n",
      "complete writing for 5021685\n",
      "complete writing for 5021715\n",
      "complete writing for 5021782\n",
      "complete writing for 5022509\n",
      "complete writing for 5022738\n",
      "complete writing for 5022754\n",
      "complete writing for 6010261\n",
      "complete writing for 6010393\n",
      "complete writing for 6010733\n",
      "complete writing for 6010768\n",
      "complete writing for 6010792\n",
      "complete writing for 6011098\n",
      "complete writing for 6011454\n",
      "complete writing for 6012450\n",
      "complete writing for 6012850\n",
      "complete writing for 6012973\n",
      "complete writing for 6013090\n",
      "complete writing for 6013392\n",
      "complete writing for 6013570\n",
      "complete writing for 6013783\n",
      "complete writing for 6014097\n",
      "complete writing for 6015620\n",
      "complete writing for 6016219\n",
      "complete writing for 6016391\n",
      "complete writing for 6016448\n",
      "complete writing for 6017002\n",
      "complete writing for 6017401\n",
      "complete writing for 6017835\n",
      "complete writing for 6018467\n",
      "complete writing for 6018858\n",
      "complete writing for 6019250\n",
      "complete writing for 6019706\n",
      "complete writing for 6021557\n",
      "complete writing for 6022065\n",
      "complete writing for 6022278\n",
      "complete writing for 6022421\n",
      "complete writing for 6022669\n",
      "complete writing for 6022944\n",
      "complete writing for 7010168\n",
      "complete writing for 7010435\n",
      "complete writing for 7010834\n",
      "complete writing for 7011784\n",
      "complete writing for 7012012\n",
      "complete writing for 7012365\n",
      "complete writing for 7012403\n",
      "complete writing for 7012551\n",
      "complete writing for 7012993\n",
      "complete writing for 7014813\n",
      "complete writing for 7014848\n",
      "complete writing for 7015097\n",
      "complete writing for 7015259\n",
      "complete writing for 7015917\n",
      "complete writing for 7017642\n",
      "complete writing for 7017871\n",
      "complete writing for 7018215\n",
      "complete writing for 7018576\n",
      "complete writing for 7018932\n",
      "complete writing for 7018940\n",
      "complete writing for 7019211\n",
      "complete writing for 7019408\n",
      "complete writing for 7019629\n",
      "complete writing for 7019955\n",
      "complete writing for 7040350\n",
      "complete writing for 7041403\n",
      "complete writing for 7042299\n",
      "complete writing for 7044194\n",
      "complete writing for 7044801\n",
      "complete writing for 7044976\n",
      "complete writing for 7044984\n",
      "complete writing for 8010358\n",
      "complete writing for 8010498\n",
      "complete writing for 8010900\n",
      "complete writing for 8011036\n",
      "complete writing for 8011966\n",
      "complete writing for 8012059\n",
      "complete writing for 8012440\n",
      "complete writing for 8012679\n",
      "complete writing for 8012695\n",
      "complete writing for 8013209\n",
      "complete writing for 8013381\n",
      "complete writing for 8014167\n",
      "complete writing for 8014957\n",
      "complete writing for 8015104\n",
      "complete writing for 8015198\n",
      "complete writing for 8015295\n",
      "complete writing for 8016526\n",
      "complete writing for 8016941\n",
      "complete writing for 8016968\n",
      "complete writing for 8017093\n",
      "complete writing for 8017409\n",
      "complete writing for 8017417\n",
      "complete writing for 8017506\n",
      "complete writing for 8017670\n",
      "complete writing for 8018219\n",
      "complete writing for 8018413\n",
      "complete writing for 8019509\n",
      "complete writing for 8019967\n",
      "complete writing for 8021244\n",
      "complete writing for 8021724\n",
      "complete writing for 8021988\n",
      "complete writing for 8022755\n",
      "complete writing for 8022909\n",
      "complete writing for 8022917\n",
      "complete writing for 8022925\n",
      "complete writing for 8023077\n",
      "complete writing for 8024278\n",
      "complete writing for 8024502\n",
      "complete writing for 8024642\n"
     ]
    }
   ],
   "source": [
    "# Sub_sorted = ['3010406', '3010414', \"3011194\", '3011232', '3011399', '3011704', '3011933', '3013561', '3014037', '3014061', '3014274', '3014410', '3014622', '3014673', '3014940', '3015025', '3015700', '3015815', '3016552', '3016900', '3017567', '3018407', '3018679', '3018741', '3019101', '3019845', '3022374', '3022862', '4010280', '4010612', '4011031', '4011562', '4011740', '4011783', '4012100', '4012631', '4012801', '4013638', '4013891', '4015720', '4015967', '4015983', '4016939', '4017935', '4018214', '4018389', '4018800', '4018877', '4019164', '4019261', '4019750', '4019970', '4021320', '4021959', '4022050', '4022130', '4022629', '4022874', '5010160', '5010195', '5010659', '5010888', '5011230', '5011485', '5011833', '5012236', '5012562', '5012570', '5012902', '5013143', '5014220', '5014778', '5014816', '5014891', '5015260', '5015464', '5015472', '5015952', '5016002', '5016363', '5016894', '5017432', '5017513', '5017548', '5017980', '5018099', '5018382', '5018790', '5018870', '5018960', '5021685', '5021715', '5021782', '5022509', '5022738', '5022754', '6010261', '6010393', '6010733', '6010768', '6010792', '6011098', '6011454', '6012450', '6012850', '6012973', '6013090', '6013392', '6013570', '6013783', '6014097', '6015620', '6016219', '6016391', '6016448', '6017002', '6017401', '6017835', '6018467', '6018858', '6019250', '6019706', '6021557', '6022065', '6022278', '6022421', '6022669', '6022944', '7010168', '7010435', '7010834', '7011784', '7012012', '7012365', '7012403', '7012551', '7012993', '7014813', '7014848', '7015097', '7015259', '7015917', '7017642', '7017871', '7018215', '7018576', '7018932', '7018940', '7019211', '7019408', '7019629', '7019955', '7040350', '7041403', '7042299', '7044194', '7044801', '7044976', '7044984', '8010358', '8010498', '8010900', '8011036', '8011966', '8012059', '8012440', '8012679', '8012695', '8013209', '8013381', '8014167', '8014957', '8015104', '8015198', '8015295', '8016526', '8016941', '8016968', '8017093', '8017409', '8017417', '8017506', '8017670', '8018219', '8018413', '8019509', '8019967', '8021244', '8021724', '8021988', '8022755', '8022909', '8022917', '8022925', '8023077', '8024278', '8024502', '8024642']\n",
    "\n",
    "# for sub in Sub_sorted:\n",
    "#     invert_lung_FB(SubDir, sub, output_dir_FB)\n",
    "#     invert_lung_LR(SubDir, sub, output_dir_LR)\n",
    "#     print(f\"complete writing for {sub}\")"
   ]
  },
  {
   "cell_type": "markdown",
   "id": "b88ddaf5-08f0-4259-addb-ab0123bbbb18",
   "metadata": {},
   "source": [
    "#### Classifier"
   ]
  },
  {
   "cell_type": "code",
   "execution_count": 14,
   "id": "9cde4da9-82c4-42fd-b986-0255f749f1c2",
   "metadata": {
    "tags": []
   },
   "outputs": [],
   "source": [
    "Sub_sorted = ['3010406', '3010414', \"3011194\", '3011232', '3011399', '3011704', '3011933', '3013561', '3014037', '3014061', '3014274', '3014410', '3014622', '3014673', '3014940', '3015025', '3015700', '3015815', '3016552', '3016900', '3017567', '3018407', '3018679', '3018741', '3019101', '3019845', '3022374', '3022862', '4010280', '4010612', '4011031', '4011562', '4011740', '4011783', '4012100', '4012631', '4012801', '4013638', '4013891', '4015720', '4015967', '4015983', '4016939', '4017935', '4018214', '4018389', '4018800', '4018877', '4019164', '4019261', '4019750', '4019970', '4021320', '4021959', '4022050', '4022130', '4022629', '4022874', '5010160', '5010195', '5010659', '5010888', '5011230', '5011485', '5011833', '5012236', '5012562', '5012570', '5012902', '5013143', '5014220', '5014778', '5014816', '5014891', '5015260', '5015464', '5015472', '5015952', '5016002', '5016363', '5016894', '5017432', '5017513', '5017548', '5017980', '5018099', '5018382', '5018790', '5018870', '5018960', '5021685', '5021715', '5021782', '5022509', '5022738', '5022754', '6010261', '6010393', '6010733', '6010768', '6010792', '6011098', '6011454', '6012450', '6012850', '6012973', '6013090', '6013392', '6013570', '6013783', '6014097', '6015620', '6016219', '6016391', '6016448', '6017002', '6017401', '6017835', '6018467', '6018858', '6019250', '6019706', '6021557', '6022065', '6022278', '6022421', '6022669', '6022944', '7010168', '7010435', '7010834', '7011784', '7012012', '7012365', '7012403', '7012551', '7012993', '7014813', '7014848', '7015097', '7015259', '7015917', '7017642', '7017871', '7018215', '7018576', '7018932', '7018940', '7019211', '7019408', '7019629', '7019955', '7040350', '7041403', '7042299', '7044194', '7044801', '7044976', '7044984', '8010358', '8010498', '8010900', '8011036', '8011966', '8012059', '8012440', '8012679', '8012695', '8013209', '8013381', '8014167', '8014957', '8015104', '8015198', '8015295', '8016526', '8016941', '8016968', '8017093', '8017409', '8017417', '8017506', '8017670', '8018219', '8018413', '8019509', '8019967', '8021244', '8021724', '8021988', '8022755', '8022909', '8022917', '8022925', '8023077', '8024278', '8024502', '8024642']"
   ]
  },
  {
   "cell_type": "code",
   "execution_count": 15,
   "id": "933febb7-25d4-47e8-9e59-1a7c9d87c676",
   "metadata": {
    "tags": []
   },
   "outputs": [],
   "source": [
    "# Create a function for selecting optimal x/y/z axis slice\n",
    "def max_slice_indices(lung):\n",
    "    slice_areas_z = np.sum(lung, axis=(0, 1))\n",
    "    largest_area_z_index = np.argmax(slice_areas_z)\n",
    "    \n",
    "    slice_areas_x = np.sum(lung, axis=(1, 2))\n",
    "    largest_area_x_index = np.argmax(slice_areas_x)\n",
    "    \n",
    "    slice_areas_y = np.sum(lung, axis=(0, 2))\n",
    "    largest_area_y_index = np.argmax(slice_areas_y)\n",
    "    \n",
    "    return largest_area_x_index, largest_area_y_index, largest_area_z_index\n",
    "\n",
    "# Create a function\n",
    "def pix_sum(lung, xlc, ylc, zlc):\n",
    "    pix = np.zeros((3,2,2))\n",
    "    xx,yy,zz = lung.shape\n",
    "    \n",
    "    # axial plane - slicing on z axis \n",
    "    for i in range(2):\n",
    "        for j in range(2):\n",
    "            pix[0,i,1-j] = lung[i*xx//2:(i+1)*xx//2, j*yy//2:(j+1)*yy//2, zlc].mean()\n",
    "            \n",
    "    # coronal plane - slicing on y axis          \n",
    "    for i in range(2):\n",
    "        for j in range(2):\n",
    "            pix[1,1-i,j] = lung[i*xx//2:(i+1)*xx//2, ylc, j*zz//2:(j+1)*zz//2].mean()\n",
    "            \n",
    "    # saggital plane - slicing on x axis         \n",
    "    for i in range(2):\n",
    "        for j in range(2):\n",
    "            pix[2,i,j] = lung[xlc, i*yy//2:(i+1)*yy//2, j*zz//2:(j+1)*zz//2].mean()\n",
    "            \n",
    "    return pix\n",
    "\n",
    "# def normalize_pixel_sums(lung, xlc, ylc, zlc):\n",
    "#     # Calculate pixel sums for the three planes\n",
    "#     pixel_sums = pix_sum(lung, xlc, ylc, zlc)\n",
    "    \n",
    "#     # Normalize each plane's pixel sums separately to [0, 1]\n",
    "#     normalized_sums = pixel_sums - np.min(pixel_sums)\n",
    "#     normalized_sums /= np.max(normalized_sums)\n",
    "    \n",
    "#     return normalized_sums"
   ]
  },
  {
   "cell_type": "code",
   "execution_count": 12,
   "id": "215e940b-9e2e-4491-ab1e-4d6866fedf2e",
   "metadata": {
    "tags": []
   },
   "outputs": [],
   "source": [
    "# # Getting X(flattened tensors) and y(labels (0, 1:LR, 2:TB, 3:FB))\n",
    "# SubDir = \"/DATA/summer_students/process_AZ/cardiac_cleanup\"\n",
    "\n",
    "# X=[]\n",
    "# y=[]\n",
    "\n",
    "# for sub in Sub_sorted: \n",
    "#     lung = nib.load(os.path.join(SubDir, f\"{sub}_LUNG.nii.gz\")).get_fdata()\n",
    "#     xlc, ylc, zlc = max_slice_indices(lung)\n",
    "#     pix = pix_sum(lung, xlc, ylc, zlc)\n",
    "#     X.append(pix.flatten())\n",
    "#     y.append(0)\n",
    "\n",
    "# for sub in Sub_sorted:\n",
    "#     Dir = '/DATA/summer_students/process_AZ/cardiac_LR'\n",
    "#     lung = nib.load(os.path.join(Dir, f\"LR_{sub}_LUNG.nii.gz\")).get_fdata()\n",
    "#     xlc, ylc, zlc = max_slice_indices(lung)\n",
    "#     pix = pix_sum(lung, xlc, ylc, zlc)\n",
    "#     X.append(pix.flatten())\n",
    "#     y.append(1)\n",
    "    \n",
    "# for sub in Sub_sorted:\n",
    "#     Dir = '/DATA/summer_students/process_AZ/cardiac_TB'\n",
    "#     lung = nib.load(os.path.join(Dir, f\"TB_{sub}_LUNG.nii.gz\")).get_fdata()\n",
    "#     xlc, ylc, zlc = max_slice_indices(lung)\n",
    "#     pix = pix_sum(lung, xlc, ylc, zlc)\n",
    "#     X.append(pix.flatten())\n",
    "#     y.append(2)\n",
    "    \n",
    "# for sub in Sub_sorted:\n",
    "#     Dir = output_dir_FB = '/DATA/summer_students/process_AZ/cardiac_FB'\n",
    "#     lung = nib.load(os.path.join(Dir, f\"FB_{sub}_LUNG.nii.gz\")).get_fdata()\n",
    "#     xlc, ylc, zlc = max_slice_indices(lung)     \n",
    "#     pix = pix_sum(lung, xlc, ylc, zlc)\n",
    "#     X.append(pix.flatten())\n",
    "#     y.append(3)\n",
    "    \n",
    "# print(len(X), len(y))"
   ]
  },
  {
   "cell_type": "code",
   "execution_count": 18,
   "id": "6eda78ad-bf72-43f4-a71d-285fc5cf398a",
   "metadata": {
    "tags": []
   },
   "outputs": [
    {
     "data": {
      "application/vnd.jupyter.widget-view+json": {
       "model_id": "175bf5376d094cc783e7a5a786926d6d",
       "version_major": 2,
       "version_minor": 0
      },
      "text/plain": [
       "  0%|          | 0/198 [00:00<?, ?it/s]"
      ]
     },
     "metadata": {},
     "output_type": "display_data"
    }
   ],
   "source": [
    "# Get trainning and testing dat\n",
    "SubDir = \"/DATA/summer_students/process_AZ/cardiac_cleanup\"\n",
    "\n",
    "def extract_feature(sub):\n",
    "    X = list()\n",
    "    y = list()\n",
    "    lung = nib.load(os.path.join(SubDir, f\"{sub}_LUNG.nii.gz\")).get_fdata()\n",
    "    xlc, ylc, zlc = max_slice_indices(lung)\n",
    "    pix = pix_sum(lung, xlc, ylc, zlc)\n",
    "    X.append(pix.flatten())\n",
    "    y.append(0)\n",
    "\n",
    "\n",
    "    Dir = '/DATA/summer_students/process_AZ/cardiac_LR'\n",
    "    lung = nib.load(os.path.join(Dir, f\"LR_{sub}_LUNG.nii.gz\")).get_fdata()\n",
    "    xlc, ylc, zlc = max_slice_indices(lung)\n",
    "    pix = pix_sum(lung, xlc, ylc, zlc)\n",
    "    X.append(pix.flatten())\n",
    "    y.append(1)\n",
    "\n",
    "\n",
    "    Dir = '/DATA/summer_students/process_AZ/cardiac_TB'\n",
    "    lung = nib.load(os.path.join(Dir, f\"TB_{sub}_LUNG.nii.gz\")).get_fdata()\n",
    "    xlc, ylc, zlc = max_slice_indices(lung)\n",
    "    pix = pix_sum(lung, xlc, ylc, zlc)\n",
    "    X.append(pix.flatten())\n",
    "    y.append(2)\n",
    "\n",
    "\n",
    "    Dir = '/DATA/summer_students/process_AZ/cardiac_FB'\n",
    "    lung = nib.load(os.path.join(Dir, f\"FB_{sub}_LUNG.nii.gz\")).get_fdata()\n",
    "    xlc, ylc, zlc = max_slice_indices(lung)     \n",
    "    pix = pix_sum(lung, xlc, ylc, zlc)\n",
    "    X.append(pix.flatten())\n",
    "    y.append(3)\n",
    "\n",
    "    np.save(f'./cardiac_features/{sub}.npy', np.hstack((np.array(X), np.array(y)[:,np.newaxis])))\n",
    "\n",
    "ParallelMe(extract_feature, Sub_sorted, n_cores=15).run()"
   ]
  },
  {
   "cell_type": "code",
   "execution_count": 19,
   "id": "c7bd1cef-6114-41c9-8d74-92afc2897f67",
   "metadata": {
    "tags": []
   },
   "outputs": [
    {
     "data": {
      "application/vnd.jupyter.widget-view+json": {
       "model_id": "a7f1e221252d4dc48c639e6bbbe52fef",
       "version_major": 2,
       "version_minor": 0
      },
      "text/plain": [
       "  0%|          | 0/198 [00:00<?, ?it/s]"
      ]
     },
     "metadata": {},
     "output_type": "display_data"
    },
    {
     "data": {
      "text/plain": [
       "((792, 12), (792,))"
      ]
     },
     "execution_count": 19,
     "metadata": {},
     "output_type": "execute_result"
    }
   ],
   "source": [
    "X = list()\n",
    "y = list()\n",
    "for sub in tqdm(Sub_sorted):\n",
    "    data = np.load(f'./cardiac_features/{sub}.npy')\n",
    "    X.extend(list(data[:, :12]))\n",
    "    y.extend(list(data[:, -1]))\n",
    "X = np.array(X)\n",
    "y = np.array(y)\n",
    "X.shape, y.shape"
   ]
  },
  {
   "cell_type": "code",
   "execution_count": 22,
   "id": "00e28761-deca-49e2-ab82-8485ec351f07",
   "metadata": {
    "tags": []
   },
   "outputs": [
    {
     "name": "stdout",
     "output_type": "stream",
     "text": [
      "0.97 accuracy with a standard deviation of 0.02\n"
     ]
    }
   ],
   "source": [
    "classifier = SVC(kernel='linear', C=1.0, random_state=42)\n",
    "scores = cross_val_score(classifier, X, y, cv=5)\n",
    "print(\"%0.2f accuracy with a standard deviation of %0.2f\" % (scores.mean(), scores.std()))"
   ]
  },
  {
   "cell_type": "code",
   "execution_count": 29,
   "id": "76f7eda9-ef95-49f3-ba25-e06c077ddf9e",
   "metadata": {
    "tags": []
   },
   "outputs": [
    {
     "name": "stdout",
     "output_type": "stream",
     "text": [
      "Accuracy: 0.957983193277311\n"
     ]
    }
   ],
   "source": [
    "# Assuming y is an array of labels corresponding to each tensor\n",
    "# Split data into training and testing sets\n",
    "X_train, X_test, y_train, y_test = train_test_split(X, y, test_size=0.3, random_state=42)\n",
    "\n",
    "# Initialize the classifier\n",
    "# classifier = LogisticRegression(max_iter=1000)  # Increase max_iter for convergence\n",
    "classifier = SVC(kernel='linear', C=1.0)\n",
    "# classifier = RandomForestClassifier(n_estimators=100, random_state=42)\n",
    "# classifier = GradientBoostingClassifier(n_estimators=100, learning_rate=0.1, random_state=42)\n",
    "# classifier = MLPClassifier(hidden_layer_sizes=(100, 50), max_iter=500, random_state=42)\n",
    "# classifier = KNeighborsClassifier(n_neighbors=5) # try not to use this as comp time too long \n",
    "\n",
    "# Train the classifier\n",
    "classifier.fit(X_train, y_train)\n",
    "\n",
    "# Make predictions on the testing set\n",
    "predictions = classifier.predict(X_test)\n",
    "\n",
    "# Evaluate the model\n",
    "accuracy = accuracy_score(y_test, predictions)\n",
    "print(\"Accuracy:\", accuracy)"
   ]
  },
  {
   "cell_type": "code",
   "execution_count": 30,
   "id": "f865abc8-fe86-436a-9d08-d3663de66778",
   "metadata": {
    "tags": []
   },
   "outputs": [
    {
     "data": {
      "image/png": "[encoded data removed]",
      "text/plain": [
       "<Figure size 800x600 with 2 Axes>"
      ]
     },
     "metadata": {},
     "output_type": "display_data"
    }
   ],
   "source": [
    "from sklearn.metrics import confusion_matrix\n",
    "\n",
    "# Compute the confusion matrix\n",
    "cm = confusion_matrix(y_test, predictions)\n",
    "\n",
    "# Display the confusion matrix using a heatmap\n",
    "plt.figure(figsize=(8, 6))\n",
    "sns.heatmap(cm, annot=True, fmt=\"d\", cmap=\"Blues\", xticklabels=[0, 1, 2, 3], yticklabels=[0, 1, 2, 3])\n",
    "plt.xlabel(\"Predicted\")\n",
    "plt.ylabel(\"True\")\n",
    "plt.title(\"Confusion Matrix\")\n",
    "plt.show()"
   ]
  },
  {
   "cell_type": "code",
   "execution_count": 31,
   "id": "5ba89978-ea0a-46d1-9265-74643287a1d8",
   "metadata": {
    "tags": []
   },
   "outputs": [
    {
     "data": {
      "text/plain": [
       "['cardiac_flip_classifier.pkl']"
      ]
     },
     "execution_count": 31,
     "metadata": {},
     "output_type": "execute_result"
    }
   ],
   "source": [
    "import joblib\n",
    "\n",
    "joblib.dump(classifier, 'cardiac_flip_classifier.pkl')"
   ]
  },
  {
   "cell_type": "code",
   "execution_count": 32,
   "id": "9413ae95-ffdb-4749-8cde-4d3ba5442398",
   "metadata": {
    "tags": []
   },
   "outputs": [],
   "source": [
    "# Load the saved model\n",
    "classifier = joblib.load('cardiac_flip_classifier.pkl')"
   ]
  },
  {
   "cell_type": "markdown",
   "id": "f691192f-f77e-4fe0-8bd7-2869054c3dea",
   "metadata": {},
   "source": [
    "#### Write a function that takes lung mask and return axis to flip on "
   ]
  },
  {
   "cell_type": "code",
   "execution_count": 33,
   "id": "176ec3cc-cd47-4bc5-b228-df39ee31f811",
   "metadata": {
    "tags": []
   },
   "outputs": [],
   "source": [
    "def cardiac_flip_classify(lung): \n",
    "    X = []\n",
    "    xlc, ylc, zlc = max_slice_indices(lung)\n",
    "    pix = pix_sum(lung, xlc, ylc, zlc)\n",
    "    X.append(pix.flatten())\n",
    "    prediction = classifier.predict(X)\n",
    "    if prediction == 0:\n",
    "        pass\n",
    "    else: \n",
    "        print(f\"{prediction} axis flip predicted\")\n",
    "        return prediction"
   ]
  },
  {
   "cell_type": "code",
   "execution_count": 34,
   "id": "59065c13-68d5-45f2-8c2a-274698170c4a",
   "metadata": {
    "tags": []
   },
   "outputs": [
    {
     "name": "stdout",
     "output_type": "stream",
     "text": [
      "[3.] axis flip predicted\n",
      "[3.] axis flip predicted\n",
      "[3.] axis flip predicted\n",
      "[2.] axis flip predicted\n",
      "[3.] axis flip predicted\n",
      "[3.] axis flip predicted\n",
      "[None, None, None, None, None, None, None, None, None, None, None, None, None, None, None, None, None, None, array([3.]), None, None, None, None, None, array([3.]), None, array([3.]), None, None, None, None, None, None, None, None, None, None, None, None, None, None, None, array([2.]), None, None, None, None, None, None, None, None, None, None, array([3.]), None, None, None, None, None, None, None, None, None, None, None, None, None, None, None, None, None, None, None, None, None, None, None, None, None, None, None, None, None, None, None, None, None, None, None, None, None, None, None, None, None, None, None, None, None, None, None, None, None, None, None, None, None, None, None, None, None, None, None, None, None, None, None, None, None, None, None, None, None, None, None, None, None, None, None, None, None, None, None, None, None, None, None, None, None, array([3.]), None, None, None, None, None, None, None, None, None, None, None, None, None, None, None, None, None, None, None, None, None, None, None, None, None, None, None, None, None, None, None, None, None, None, None, None, None, None, None, None, None, None, None, None, None, None, None, None, None, None, None, None, None, None, None, None, None, None]\n"
     ]
    }
   ],
   "source": [
    "# Getting X(flattened tensors) and y(labels (0, 1:LR, 2:TB, 3:FB))\n",
    "SubDir = \"/DATA/summer_students/process_AZ/cardiac_cleanup\"\n",
    "\n",
    "predictions = []\n",
    "for sub in Sub_sorted:\n",
    "    lung = nib.load(os.path.join(SubDir, f\"{sub}_LUNG.nii.gz\")).get_fdata()\n",
    "    prediction = cardiac_flip_classify(lung)\n",
    "    predictions.append(prediction)\n",
    "    \n",
    "print(predictions)"
   ]
  }
 ],
 "metadata": {
  "kernelspec": {
   "display_name": "Python 3 (ipykernel)",
   "language": "python",
   "name": "python3"
  },
  "language_info": {
   "codemirror_mode": {
    "name": "ipython",
    "version": 3
   },
   "file_extension": ".py",
   "mimetype": "text/x-python",
   "name": "python",
   "nbconvert_exporter": "python",
   "pygments_lexer": "ipython3",
   "version": "3.10.10"
  }
 },
 "nbformat": 4,
 "nbformat_minor": 5
}
