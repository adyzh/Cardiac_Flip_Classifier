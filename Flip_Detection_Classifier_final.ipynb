{
 "cells": [
  {
   "cell_type": "markdown",
   "id": "43ac40aa-d864-4a1b-9865-5bafba35da1f",
   "metadata": {},
   "source": [
    "### Full-Lung CT and Cardiac CT Flip-Detection Classifier\n",
    "\n",
    "For each subject of interest, load the lung mask and apply the classifier. The output will be None, 1, 2, or 3. None indicates no flip predicted, 1 indicates left-right flip predicted, 2 indicates top-bottom flip detected and 3 indicates front-back flip detected. \n",
    " "
   ]
  },
  {
   "cell_type": "code",
   "execution_count": 2,
   "id": "27bce841-c7e9-45bd-960d-ddcdbc1ae64c",
   "metadata": {
    "tags": []
   },
   "outputs": [],
   "source": [
    "# Import packages\n",
    "import nibabel as nib\n",
    "import numpy as np\n",
    "import os\n",
    "from glob import glob\n",
    "import matplotlib.pyplot as plt\n",
    "import pandas as pd \n",
    "from nilearn import plotting\n",
    "import seaborn as sns \n",
    "import random \n",
    "from mpl_toolkits.axes_grid1 import make_axes_locatable\n",
    "from sklearn.model_selection import train_test_split\n",
    "from sklearn.metrics import accuracy_score\n",
    "from sklearn.svm import SVC\n",
    "from sklearn.metrics import confusion_matrix\n",
    "from sklearn.model_selection import cross_val_score\n",
    "from tqdm.auto import tqdm\n",
    "from utils import ParallelMe\n",
    "import joblib"
   ]
  },
  {
   "cell_type": "markdown",
   "id": "035db30c-1b34-4c48-81b4-54bc7a096fa6",
   "metadata": {},
   "source": [
    "##### Load Utility Functions"
   ]
  },
  {
   "cell_type": "code",
   "execution_count": 5,
   "id": "146b79ca-5aaa-4c9e-a740-a753d7931977",
   "metadata": {
    "tags": []
   },
   "outputs": [],
   "source": [
    "def max_slice_indices(lung):\n",
    "    slice_areas_z = np.sum(lung, axis=(0, 1))\n",
    "    largest_area_z_index = np.argmax(slice_areas_z)\n",
    "    \n",
    "    slice_areas_x = np.sum(lung, axis=(1, 2))\n",
    "    largest_area_x_index = np.argmax(slice_areas_x)\n",
    "    \n",
    "    slice_areas_y = np.sum(lung, axis=(0, 2))\n",
    "    largest_area_y_index = np.argmax(slice_areas_y)\n",
    "    \n",
    "    return largest_area_x_index, largest_area_y_index, largest_area_z_index\n",
    "\n",
    "def pix_sum(lung, xlc, ylc, zlc):\n",
    "    pix = np.zeros((3,2,2))\n",
    "    xx,yy,zz = lung.shape\n",
    "    \n",
    "    # axial plane - slicing on z axis \n",
    "    for i in range(2):\n",
    "        for j in range(2):\n",
    "            pix[0,i,1-j] = lung[i*xx//2:(i+1)*xx//2, j*yy//2:(j+1)*yy//2, zlc].mean()\n",
    "            \n",
    "    # coronal plane - slicing on y axis          \n",
    "    for i in range(2):\n",
    "        for j in range(2):\n",
    "            pix[1,1-i,j] = lung[i*xx//2:(i+1)*xx//2, ylc, j*zz//2:(j+1)*zz//2].mean()\n",
    "            \n",
    "    # saggital plane - slicing on x axis         \n",
    "    for i in range(2):\n",
    "        for j in range(2):\n",
    "            pix[2,i,j] = lung[xlc, i*yy//2:(i+1)*yy//2, j*zz//2:(j+1)*zz//2].mean()\n",
    "            \n",
    "    return pix"
   ]
  },
  {
   "cell_type": "markdown",
   "id": "796f18af-562c-4134-a83e-f563431a8f3c",
   "metadata": {},
   "source": [
    "##### Load The Classifier"
   ]
  },
  {
   "cell_type": "code",
   "execution_count": 15,
   "id": "6fd15b73-77c6-4dbc-a4e0-5a5d38fc3d56",
   "metadata": {
    "tags": []
   },
   "outputs": [],
   "source": [
    "# Load classifier \n",
    "lung_classifier = joblib.load('lung_flip_classifier.pkl')\n",
    "\n",
    "# Load classifier \n",
    "cardiac_classifier = joblib.load('cardiac_flip_classifier.pkl')"
   ]
  },
  {
   "cell_type": "code",
   "execution_count": 16,
   "id": "842162a7-650b-4040-a59a-47d9f2143f78",
   "metadata": {
    "tags": []
   },
   "outputs": [],
   "source": [
    "def lung_flip_classify(lung): \n",
    "    X = []\n",
    "    xlc, ylc, zlc = max_slice_indices(lung)\n",
    "    pix = pix_sum(lung, xlc, ylc, zlc)\n",
    "    X.append(pix.flatten())\n",
    "    prediction = lung_classifier.predict(X)\n",
    "    if prediction == 0:\n",
    "        pass\n",
    "    else: \n",
    "        print(f\"{prediction} axis flip predicted for full-lung lung mask\")\n",
    "        return prediction"
   ]
  },
  {
   "cell_type": "code",
   "execution_count": 17,
   "id": "35327be4-a02a-42c7-9d18-ab13db9f3f8c",
   "metadata": {
    "tags": []
   },
   "outputs": [],
   "source": [
    "def cardiac_flip_classify(lung): \n",
    "    X = []\n",
    "    xlc, ylc, zlc = max_slice_indices(lung)\n",
    "    pix = pix_sum(lung, xlc, ylc, zlc)\n",
    "    X.append(pix.flatten())\n",
    "    prediction = cardiac_classifier.predict(X)\n",
    "    if prediction == 0:\n",
    "        pass\n",
    "    else: \n",
    "        print(f\"{prediction} axis flip predicted for cardiac lung mask\")\n",
    "        return prediction"
   ]
  },
  {
   "cell_type": "markdown",
   "id": "fd76a169-75eb-4dd3-98dc-bac6896353ab",
   "metadata": {},
   "source": [
    "##### Example Usage"
   ]
  },
  {
   "cell_type": "code",
   "execution_count": 21,
   "id": "227a022a-b3eb-4532-8d08-b6b542d6e3ca",
   "metadata": {
    "tags": []
   },
   "outputs": [
    {
     "name": "stdout",
     "output_type": "stream",
     "text": [
      "[None, None]\n"
     ]
    }
   ],
   "source": [
    "# Define a directory in which the scans are stored \n",
    "SubDir = \"/DATA/summer_students/process_AZ/cardiac_cleanup\"\n",
    "\n",
    "# Initiate list that stores prediction results \n",
    "predictions = list()\n",
    "\n",
    "for sub in []:\n",
    "    lung = nib.load(os.path.join(SubDir, f\"{sub}_LUNG.nii.gz\")).get_fdata()\n",
    "    prediction = cardiac_flip_classify(lung)\n",
    "    predictions.append(prediction)\n",
    "    \n",
    "print(predictions)"
   ]
  }
 ],
 "metadata": {
  "kernelspec": {
   "display_name": "Python 3 (ipykernel)",
   "language": "python",
   "name": "python3"
  },
  "language_info": {
   "codemirror_mode": {
    "name": "ipython",
    "version": 3
   },
   "file_extension": ".py",
   "mimetype": "text/x-python",
   "name": "python",
   "nbconvert_exporter": "python",
   "pygments_lexer": "ipython3",
   "version": "3.10.10"
  }
 },
 "nbformat": 4,
 "nbformat_minor": 5
}
